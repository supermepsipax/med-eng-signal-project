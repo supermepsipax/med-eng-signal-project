{
  "cells": [
    {
      "cell_type": "markdown",
      "metadata": {
        "id": "lhOA8FqYcRI0"
      },
      "source": [
        "# Sleep Scoring Project - Google Colab Notebook\n",
        "\n",
        "This notebook allows you to run the Python sleep scoring pipeline in a Google Colab environment.\n",
        "\n",
        "## 🚀 How to Use\n",
        "\n",
        "1.  **Clone the Repository:** Run the first code cell to clone the project repository from GitHub.\n",
        "2.  **Install Dependencies:** The second cell installs the necessary Python packages.\n",
        "3.  **Configure Pipeline:** The third cell updates the configuration to use the sample data.\n",
        "4.  **Run the Pipeline:** The main part of the notebook is in the fourth cell, which runs the complete sleep scoring pipeline.\n",
        "5.  **View Results:** The results, including visualizations and reports, will be displayed in the notebook."
      ]
    },
    {
      "cell_type": "code",
      "execution_count": 12,
      "metadata": {
        "id": "4AxZeIHIcRI1",
        "colab": {
          "base_uri": "https://localhost:8080/"
        },
        "outputId": "1d679c74-8087-41e3-cc60-3cb224f3067a"
      },
      "outputs": [
        {
          "output_type": "stream",
          "name": "stdout",
          "text": [
            "Drive already mounted at /content/drive; to attempt to forcibly remount, call drive.mount(\"/content/drive\", force_remount=True).\n",
            "/content/drive/My Drive/CM2013/Python\n"
          ]
        }
      ],
      "source": [
        "# 1. Clone/Load the Repository Content\n",
        "load_from = \"GoogleDrive\" # {\"GoogleDrive\", \"GitHub\"}\n",
        "userName = \"farhad-abtahi\"\n",
        "repoName = \"CM2013\"\n",
        "\n",
        "if load_from == \"GitHub\":\n",
        "  # Clone the Repository from GitHub\n",
        "  !git clone \"https://github.com/{userName}/{repoName}.git\"\n",
        "  %cd \"{repoName}/Python\"\n",
        "\n",
        "elif load_from == \"GoogleDrive\":\n",
        "  # Load the Repository Content from Google Drive\n",
        "  try: # Google Colab\n",
        "    from google.colab import drive # This module is only available in Colab.\n",
        "    drive.mount('/content/drive')\n",
        "    %cd \"/content/drive/My Drive/{repoName}/Python\"\n",
        "  except ImportError: # Non-Google Colab\n",
        "    print(\"Try using Google Colab.\")"
      ]
    },
    {
      "cell_type": "code",
      "execution_count": 13,
      "metadata": {
        "colab": {
          "base_uri": "https://localhost:8080/"
        },
        "id": "VUxgfdvbcRI2",
        "outputId": "1b2cf13c-46c2-42fc-f96f-ef23773ae889"
      },
      "outputs": [
        {
          "output_type": "stream",
          "name": "stdout",
          "text": [
            "Requirement already satisfied: numpy in /usr/local/lib/python3.12/dist-packages (from -r requirements.txt (line 1)) (2.0.2)\n",
            "Requirement already satisfied: scipy in /usr/local/lib/python3.12/dist-packages (from -r requirements.txt (line 2)) (1.16.2)\n",
            "Requirement already satisfied: scikit-learn in /usr/local/lib/python3.12/dist-packages (from -r requirements.txt (line 3)) (1.6.1)\n",
            "Requirement already satisfied: matplotlib in /usr/local/lib/python3.12/dist-packages (from -r requirements.txt (line 4)) (3.10.0)\n",
            "Requirement already satisfied: joblib in /usr/local/lib/python3.12/dist-packages (from -r requirements.txt (line 5)) (1.5.2)\n",
            "Requirement already satisfied: mne in /usr/local/lib/python3.12/dist-packages (from -r requirements.txt (line 6)) (1.10.1)\n",
            "Requirement already satisfied: threadpoolctl>=3.1.0 in /usr/local/lib/python3.12/dist-packages (from scikit-learn->-r requirements.txt (line 3)) (3.6.0)\n",
            "Requirement already satisfied: contourpy>=1.0.1 in /usr/local/lib/python3.12/dist-packages (from matplotlib->-r requirements.txt (line 4)) (1.3.3)\n",
            "Requirement already satisfied: cycler>=0.10 in /usr/local/lib/python3.12/dist-packages (from matplotlib->-r requirements.txt (line 4)) (0.12.1)\n",
            "Requirement already satisfied: fonttools>=4.22.0 in /usr/local/lib/python3.12/dist-packages (from matplotlib->-r requirements.txt (line 4)) (4.60.0)\n",
            "Requirement already satisfied: kiwisolver>=1.3.1 in /usr/local/lib/python3.12/dist-packages (from matplotlib->-r requirements.txt (line 4)) (1.4.9)\n",
            "Requirement already satisfied: packaging>=20.0 in /usr/local/lib/python3.12/dist-packages (from matplotlib->-r requirements.txt (line 4)) (25.0)\n",
            "Requirement already satisfied: pillow>=8 in /usr/local/lib/python3.12/dist-packages (from matplotlib->-r requirements.txt (line 4)) (11.3.0)\n",
            "Requirement already satisfied: pyparsing>=2.3.1 in /usr/local/lib/python3.12/dist-packages (from matplotlib->-r requirements.txt (line 4)) (3.2.4)\n",
            "Requirement already satisfied: python-dateutil>=2.7 in /usr/local/lib/python3.12/dist-packages (from matplotlib->-r requirements.txt (line 4)) (2.9.0.post0)\n",
            "Requirement already satisfied: decorator in /usr/local/lib/python3.12/dist-packages (from mne->-r requirements.txt (line 6)) (4.4.2)\n",
            "Requirement already satisfied: jinja2 in /usr/local/lib/python3.12/dist-packages (from mne->-r requirements.txt (line 6)) (3.1.6)\n",
            "Requirement already satisfied: lazy-loader>=0.3 in /usr/local/lib/python3.12/dist-packages (from mne->-r requirements.txt (line 6)) (0.4)\n",
            "Requirement already satisfied: pooch>=1.5 in /usr/local/lib/python3.12/dist-packages (from mne->-r requirements.txt (line 6)) (1.8.2)\n",
            "Requirement already satisfied: tqdm in /usr/local/lib/python3.12/dist-packages (from mne->-r requirements.txt (line 6)) (4.67.1)\n",
            "Requirement already satisfied: platformdirs>=2.5.0 in /usr/local/lib/python3.12/dist-packages (from pooch>=1.5->mne->-r requirements.txt (line 6)) (4.4.0)\n",
            "Requirement already satisfied: requests>=2.19.0 in /usr/local/lib/python3.12/dist-packages (from pooch>=1.5->mne->-r requirements.txt (line 6)) (2.32.4)\n",
            "Requirement already satisfied: six>=1.5 in /usr/local/lib/python3.12/dist-packages (from python-dateutil>=2.7->matplotlib->-r requirements.txt (line 4)) (1.17.0)\n",
            "Requirement already satisfied: MarkupSafe>=2.0 in /usr/local/lib/python3.12/dist-packages (from jinja2->mne->-r requirements.txt (line 6)) (3.0.2)\n",
            "Requirement already satisfied: charset_normalizer<4,>=2 in /usr/local/lib/python3.12/dist-packages (from requests>=2.19.0->pooch>=1.5->mne->-r requirements.txt (line 6)) (3.4.3)\n",
            "Requirement already satisfied: idna<4,>=2.5 in /usr/local/lib/python3.12/dist-packages (from requests>=2.19.0->pooch>=1.5->mne->-r requirements.txt (line 6)) (3.10)\n",
            "Requirement already satisfied: urllib3<3,>=1.21.1 in /usr/local/lib/python3.12/dist-packages (from requests>=2.19.0->pooch>=1.5->mne->-r requirements.txt (line 6)) (2.5.0)\n",
            "Requirement already satisfied: certifi>=2017.4.17 in /usr/local/lib/python3.12/dist-packages (from requests>=2.19.0->pooch>=1.5->mne->-r requirements.txt (line 6)) (2025.8.3)\n"
          ]
        }
      ],
      "source": [
        "# 2. Install Dependencies\n",
        "!pip install -r requirements.txt"
      ]
    },
    {
      "cell_type": "code",
      "execution_count": 16,
      "metadata": {
        "colab": {
          "base_uri": "https://localhost:8080/"
        },
        "id": "Z_wSGm7qcRI2",
        "outputId": "4b97a2f4-3d2a-4bdc-eb51-1264b79c0da3"
      },
      "outputs": [
        {
          "output_type": "stream",
          "name": "stdout",
          "text": [
            "TRAINING_DIR: ../data/sample/\n"
          ]
        }
      ],
      "source": [
        "# 3. Configure Pipeline\n",
        "import config\n",
        "config.TRAINING_DIR = f'{config.DATA_DIR}sample/'\n",
        "print(f\"TRAINING_DIR: {config.TRAINING_DIR}\")"
      ]
    },
    {
      "cell_type": "code",
      "execution_count": 17,
      "metadata": {
        "id": "6_Uw0Xg4cRI2",
        "colab": {
          "base_uri": "https://localhost:8080/",
          "height": 1000
        },
        "outputId": "6ab42b65-4a73-4c65-afb4-f1dde2b4f702"
      },
      "outputs": [
        {
          "output_type": "stream",
          "name": "stdout",
          "text": [
            "--- Sleep Scoring Pipeline - Iteration 1 ---\n",
            "\n",
            "=== STEP 1: DATA LOADING ===\n",
            "Loading training data from ../data/sample/R1.edf and ../data/sample/R1.xml...\n",
            "WARNING: Using dummy data! Students must implement actual EDF/XML loading.\n",
            "Multi-channel structure:\n",
            "  EEG: 2 channels, 3000 samples/epoch\n",
            "  EOG: 2 channels, 3000 samples/epoch\n",
            "  EMG: 1 channels, 6000 samples/epoch\n",
            "Generated dummy sleep data: 240 epochs (2.0 hours)\n",
            "  Wake: 14 epochs (5.8%)\n",
            "  N1: 10 epochs (4.2%)\n",
            "  N2: 114 epochs (47.5%)\n",
            "  N3: 61 epochs (25.4%)\n",
            "  REM: 41 epochs (17.1%)\n",
            "Multi-channel data loaded:\n",
            "  EEG: (240, 2, 3000)\n",
            "  EOG: (240, 2, 3000)\n",
            "  EMG: (240, 1, 6000)\n",
            "Labels shape: (240,)\n",
            "Using EEG channel 1 for pipeline: (240, 3000)\n",
            "\n",
            "=== STEP 2: PREPROCESSING ===\n",
            "Loading data from cache: cache/preprocessed_data_iter1.joblib\n",
            "Loaded preprocessed data from cache\n",
            "\n",
            "=== STEP 3: FEATURE EXTRACTION ===\n",
            "Loading data from cache: cache/features_iter1.joblib\n",
            "Loaded features from cache\n",
            "\n",
            "=== STEP 4: FEATURE SELECTION ===\n",
            "Selecting features for iteration 1...\n",
            "Input features shape: (240, 3)\n",
            "Early iteration - using all available features\n",
            "Selected features shape: (240, 3)\n",
            "Selected features shape: (240, 3)\n",
            "\n",
            "=== STEP 5: CLASSIFICATION ===\n",
            "Training knn classifier...\n",
            "Features shape: (240, 3), Labels shape: (240,)\n",
            "Using stratified train/test split to maintain class balance\n",
            "Training set: 192 samples, Test set: 48 samples\n",
            "Using k-NN with k=5\n",
            "Training model...\n",
            "Overall accuracy: 0.458\n",
            "\n",
            "======================================================================\n",
            "SLEEP STAGE CLASSIFICATION PERFORMANCE METRICS\n",
            "======================================================================\n",
            "Overall Accuracy: 0.458\n",
            "Macro F1-Score: 0.215\n",
            "Weighted F1-Score: 0.416\n",
            "\n",
            "Confusion Matrix:\n",
            "      REM  N3  N2  N1  Wake\n",
            "REM     0   0   2   1     0\n",
            "N3      0   0   1   1     0\n",
            "N2      1   0  17   4     1\n",
            "N1      1   0   2   5     4\n",
            "Wake    0   0   8   0     0\n",
            "\n",
            "Per-Class Performance Metrics:\n",
            "----------------------------------------------------------------------\n",
            "Stage    Accuracy   Sensitivity  Specificity  F1-Score  \n",
            "----------------------------------------------------------------------\n",
            "REM      0.000      0.000        0.956        0.000     \n",
            "N3       0.000      0.000        1.000        0.000     \n",
            "N2       0.739      0.739        0.480        0.642     \n",
            "N1       0.417      0.417        0.833        0.435     \n",
            "Wake     0.000      0.000        0.875        0.000     \n",
            "----------------------------------------------------------------------\n",
            "\n",
            "Class Distribution in Test Set:\n",
            "REM: 3 samples (6.2%)\n",
            "N3: 2 samples (4.2%)\n",
            "N2: 23 samples (47.9%)\n",
            "N1: 12 samples (25.0%)\n",
            "Wake: 8 samples (16.7%)\n",
            "\n",
            "Notes for Sleep Scoring:\n",
            "- Sensitivity = Recall = True Positive Rate (correctly identified stages)\n",
            "- Specificity = True Negative Rate (correctly rejected stages)\n",
            "- Sleep stage imbalance is natural (more N2, less N1/REM)\n",
            "- Consider Cohen's kappa for chance-corrected agreement\n",
            "- Clinical focus: High sensitivity for REM and N3 stages\n",
            "\n",
            "TODO: Students should add Cohen's kappa and ROC-AUC metrics\n",
            "Trained knn classifier\n",
            "\n",
            "=== STEP 6: VISUALIZATION ===\n",
            "Visualizing results...\n"
          ]
        },
        {
          "output_type": "display_data",
          "data": {
            "text/plain": [
              "<Figure size 640x480 with 2 Axes>"
            ],
            "image/png": "[encoded data removed]"
          },
          "metadata": {}
        },
        {
          "output_type": "stream",
          "name": "stdout",
          "text": [
            "\n",
            "=== STEP 7: REPORT GENERATION ===\n",
            "Generating report...\n",
            "Report saved to report.txt\n",
            "\n",
            "==================================================\n",
            "PIPELINE FINISHED\n",
            "==================================================\n"
          ]
        }
      ],
      "source": [
        "# 4. Run the Pipeline\n",
        "import sys\n",
        "sys.path.append('../')\n",
        "from Python import main\n",
        "main.main()"
      ]
    }
  ],
  "metadata": {
    "kernelspec": {
      "display_name": "Python 3",
      "language": "python",
      "name": "python3"
    },
    "language_info": {
      "codemirror_mode": {
        "name": "ipython",
        "version": 3
      },
      "file_extension": ".py",
      "mimetype": "text/x-python",
      "name": "python",
      "nbconvert_exporter": "python",
      "pygments_lexer": "ipython3",
      "version": "3.10.9"
    },
    "colab": {
      "provenance": []
    }
  },
  "nbformat": 4,
  "nbformat_minor": 0
}